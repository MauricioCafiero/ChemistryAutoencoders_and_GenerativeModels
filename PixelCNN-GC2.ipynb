{
 "cells": [
  {
   "cell_type": "markdown",
   "id": "37706c9c-1ef4-4051-b17e-e54aa0664180",
   "metadata": {
    "id": "37706c9c-1ef4-4051-b17e-e54aa0664180"
   },
   "source": [
    "# Pixel CNN\n",
    "\n",
    "This block\n",
    "\n",
    "- imports all modules/libraries needed\n",
    "- contains a function for a learning rate scheduler (if needed)\n",
    "- reads in SMILES strings and creates a list\n",
    "- featurizes via the SmilesTo Image featurizer from Deepchem (https://github.com/deepchem/deepchem)\n",
    "- Four channel image used for featurization\n",
    "  * Atomic numbers + bonds\n",
    "  * partial charges\n",
    "  * valence\n",
    "  * hybridization"
   ]
  },
  {
   "cell_type": "code",
   "execution_count": 1,
   "id": "EPNtJU8Uap2H",
   "metadata": {
    "colab": {
     "base_uri": "https://localhost:8080/"
    },
    "id": "EPNtJU8Uap2H",
    "outputId": "0b2890b4-6465-44c7-bb93-6eb76fbfb91a"
   },
   "outputs": [
    {
     "name": "stdout",
     "output_type": "stream",
     "text": [
      "Collecting deepchem\n",
      "  Downloading deepchem-2.8.0-py3-none-any.whl (1.0 MB)\n",
      "\u001b[2K     \u001b[90m━━━━━━━━━━━━━━━━━━━━━━━━━━━━━━━━━━━━━━━━\u001b[0m \u001b[32m1.0/1.0 MB\u001b[0m \u001b[31m5.7 MB/s\u001b[0m eta \u001b[36m0:00:00\u001b[0m\n",
      "\u001b[?25hRequirement already satisfied: joblib in /usr/local/lib/python3.10/dist-packages (from deepchem) (1.3.2)\n",
      "Requirement already satisfied: numpy>=1.21 in /usr/local/lib/python3.10/dist-packages (from deepchem) (1.25.2)\n",
      "Requirement already satisfied: pandas in /usr/local/lib/python3.10/dist-packages (from deepchem) (2.0.3)\n",
      "Requirement already satisfied: scikit-learn in /usr/local/lib/python3.10/dist-packages (from deepchem) (1.2.2)\n",
      "Requirement already satisfied: sympy in /usr/local/lib/python3.10/dist-packages (from deepchem) (1.12)\n",
      "Requirement already satisfied: scipy>=1.10.1 in /usr/local/lib/python3.10/dist-packages (from deepchem) (1.11.4)\n",
      "Collecting rdkit (from deepchem)\n",
      "  Downloading rdkit-2023.9.5-cp310-cp310-manylinux_2_17_x86_64.manylinux2014_x86_64.whl (34.4 MB)\n",
      "\u001b[2K     \u001b[90m━━━━━━━━━━━━━━━━━━━━━━━━━━━━━━━━━━━━━━━━\u001b[0m \u001b[32m34.4/34.4 MB\u001b[0m \u001b[31m23.3 MB/s\u001b[0m eta \u001b[36m0:00:00\u001b[0m\n",
      "\u001b[?25hRequirement already satisfied: python-dateutil>=2.8.2 in /usr/local/lib/python3.10/dist-packages (from pandas->deepchem) (2.8.2)\n",
      "Requirement already satisfied: pytz>=2020.1 in /usr/local/lib/python3.10/dist-packages (from pandas->deepchem) (2023.4)\n",
      "Requirement already satisfied: tzdata>=2022.1 in /usr/local/lib/python3.10/dist-packages (from pandas->deepchem) (2024.1)\n",
      "Requirement already satisfied: Pillow in /usr/local/lib/python3.10/dist-packages (from rdkit->deepchem) (9.4.0)\n",
      "Requirement already satisfied: threadpoolctl>=2.0.0 in /usr/local/lib/python3.10/dist-packages (from scikit-learn->deepchem) (3.4.0)\n",
      "Requirement already satisfied: mpmath>=0.19 in /usr/local/lib/python3.10/dist-packages (from sympy->deepchem) (1.3.0)\n",
      "Requirement already satisfied: six>=1.5 in /usr/local/lib/python3.10/dist-packages (from python-dateutil>=2.8.2->pandas->deepchem) (1.16.0)\n",
      "Installing collected packages: rdkit, deepchem\n",
      "Successfully installed deepchem-2.8.0 rdkit-2023.9.5\n"
     ]
    }
   ],
   "source": [
    "!pip install deepchem"
   ]
  },
  {
   "cell_type": "code",
   "execution_count": 3,
   "id": "979d0bc1-0585-4b38-903d-b64edabe0891",
   "metadata": {
    "colab": {
     "base_uri": "https://localhost:8080/"
    },
    "id": "979d0bc1-0585-4b38-903d-b64edabe0891",
    "outputId": "1b9932c0-8946-4307-c1bf-0f9bdc17d8fb"
   },
   "outputs": [
    {
     "name": "stdout",
     "output_type": "stream",
     "text": [
      "Number of features and datapoints:  (6731, 80, 80, 4)\n",
      "featurization done with:  SmilesToImage\n"
     ]
    }
   ],
   "source": [
    "import tensorflow as tf\n",
    "import tensorflow_probability as tfp\n",
    "import numpy as np\n",
    "import pandas as pd\n",
    "import deepchem as dc\n",
    "import time\n",
    "from rdkit import Chem\n",
    "from functools import partial\n",
    "import matplotlib.pyplot as plt\n",
    "from rdkit.Chem import AllChem, Draw\n",
    "from sklearn.model_selection import train_test_split\n",
    "\n",
    "def exp_decay(lr0,s):\n",
    "    def exp_decay_fcn(epoch):\n",
    "        return lr0*0.1**(epoch/s)\n",
    "    return exp_decay_fcn\n",
    "\n",
    "#df = pd.read_csv(\"392-azo.csv\")\n",
    "#df = pd.read_csv(\"212-azo.csv\")\n",
    "#df = pd.read_csv(\"604-azo.csv\")\n",
    "#df = pd.read_csv(r\"/content/sample_data/621-azo.csv\")\n",
    "df = pd.read_csv(r\"/content/sample_data/6731-azo.csv\")\n",
    "\n",
    "Xa = [\"\"]*len(df)\n",
    "w = [\"\"]*len(df)\n",
    "i=0\n",
    "for name in df[\"SMILES\"]:\n",
    "    Xa[i]=name\n",
    "    w[i]=1.0\n",
    "    i += 1\n",
    "Xa = list(Xa)\n",
    "w=list(w)\n",
    "\n",
    "#===========================================================================================\n",
    "#featurizer\n",
    "\n",
    "featurizer=dc.feat.SmilesToImage(img_spec=\"engd\")\n",
    "featname=\"SmilesToImage\"\n",
    "\n",
    "f = featurizer.featurize(Xa)\n",
    "print(\"Number of features and datapoints: \",f.shape)\n",
    "\n",
    "#===========================================================================================\n",
    "print(\"featurization done with: \",featname)\n",
    "\n",
    "# set npp for how many points in the dataset, len(df) for whole dataset\n",
    "nnp= len(df)\n",
    "\n",
    "#set y to lambdamax\n",
    "y = df[\"Lmax\"]\n",
    "\n",
    "#set dataset and split\n",
    "\n",
    "dataset = dc.data.NumpyDataset(X=f[:nnp,:,:,:], y=y[:nnp], ids=Xa[:nnp], w=w[:nnp])"
   ]
  },
  {
   "cell_type": "markdown",
   "id": "49721297-46cc-4153-b2a1-d2f7a5477d1d",
   "metadata": {
    "id": "49721297-46cc-4153-b2a1-d2f7a5477d1d"
   },
   "source": [
    "## Scales images"
   ]
  },
  {
   "cell_type": "code",
   "execution_count": 4,
   "id": "160f53b8-defd-40bb-8783-90b2cfcc45d4",
   "metadata": {
    "colab": {
     "base_uri": "https://localhost:8080/"
    },
    "id": "160f53b8-defd-40bb-8783-90b2cfcc45d4",
    "outputId": "3bfe3c2b-9f91-490e-9246-f66f29ceab0b"
   },
   "outputs": [
    {
     "name": "stdout",
     "output_type": "stream",
     "text": [
      "Minimum value is: -0.8723551034927368\n",
      "Maximum value is: 53.0\n",
      "New scaled array created: (6731, 80, 80, 4)\n",
      "Minimum value is: 0\n",
      "Maximum value is: 255\n"
     ]
    }
   ],
   "source": [
    "smallest = dataset.X.min()\n",
    "biggest = dataset.X.max()\n",
    "\n",
    "print(f\"Minimum value is: {smallest}\")\n",
    "print(f\"Maximum value is: {biggest}\")\n",
    "\n",
    "new_inputs = []\n",
    "for pic in dataset.X:\n",
    "    pic = ((pic - smallest) * (1/(biggest-smallest)) * 255).astype('uint8')\n",
    "    new_inputs.append(pic)\n",
    "\n",
    "new_array = np.array(new_inputs)\n",
    "print(f\"New scaled array created: {new_array.shape}\")\n",
    "smallest = new_array.min()\n",
    "biggest = new_array.max()\n",
    "\n",
    "print(f\"Minimum value is: {smallest}\")\n",
    "print(f\"Maximum value is: {biggest}\")"
   ]
  },
  {
   "cell_type": "markdown",
   "id": "f0dc88c3-17a9-48af-8032-4b0cf8d34951",
   "metadata": {
    "id": "f0dc88c3-17a9-48af-8032-4b0cf8d34951"
   },
   "source": [
    "## Define the Pixel CNN using TensorFlow distributions"
   ]
  },
  {
   "cell_type": "code",
   "execution_count": 5,
   "id": "0a3fa376-fceb-4b59-8ef1-0ae20a1718c1",
   "metadata": {
    "colab": {
     "base_uri": "https://localhost:8080/"
    },
    "id": "0a3fa376-fceb-4b59-8ef1-0ae20a1718c1",
    "outputId": "a216b8b8-0102-410c-c2bd-2cb285a225c0"
   },
   "outputs": [
    {
     "name": "stdout",
     "output_type": "stream",
     "text": [
      "Pixel CNN built.\n"
     ]
    }
   ],
   "source": [
    "embsize=128\n",
    "dropout_rate = 0.3\n",
    "\n",
    "dist = tfp.distributions.PixelCNN(image_shape = (80,80,4), num_resnet = 1,\n",
    "                                 num_hierarchies = 2, num_filters  = 32, num_logistic_mix = 5,\n",
    "                                 dropout_p = dropout_rate)\n",
    "\n",
    "image_input = tf.keras.layers.Input(shape = (80,80,4))\n",
    "log_proba = dist.log_prob(image_input)\n",
    "\n",
    "pixelcnn = tf.keras.models.Model(inputs = image_input, outputs = log_proba)\n",
    "pixelcnn.add_loss(-tf.reduce_mean(log_proba))\n",
    "\n",
    "print(\"Pixel CNN built.\")"
   ]
  },
  {
   "cell_type": "markdown",
   "id": "0caf3e80-5186-4be3-b1be-b8cc4f80e35a",
   "metadata": {
    "id": "0caf3e80-5186-4be3-b1be-b8cc4f80e35a"
   },
   "source": [
    "## Train the Pixel CNN"
   ]
  },
  {
   "cell_type": "code",
   "execution_count": 6,
   "id": "853a3ba0-895f-4768-81e9-a5c8d1ba3205",
   "metadata": {
    "colab": {
     "base_uri": "https://localhost:8080/"
    },
    "id": "853a3ba0-895f-4768-81e9-a5c8d1ba3205",
    "outputId": "07785416-4626-45dd-af34-0297f8bdae0b"
   },
   "outputs": [
    {
     "name": "stdout",
     "output_type": "stream",
     "text": [
      "Epoch 1/50\n",
      "53/53 [==============================] - 106s 1s/step - loss: 301160.5000\n",
      "Epoch 2/50\n",
      "53/53 [==============================] - 70s 1s/step - loss: 162652.9844\n",
      "Epoch 3/50\n",
      "53/53 [==============================] - 70s 1s/step - loss: 106958.9062\n",
      "Epoch 4/50\n",
      "53/53 [==============================] - 70s 1s/step - loss: 81002.7266\n",
      "Epoch 5/50\n",
      "53/53 [==============================] - 70s 1s/step - loss: 65795.0000\n",
      "Epoch 6/50\n",
      "53/53 [==============================] - 70s 1s/step - loss: 66011.8750\n",
      "Epoch 7/50\n",
      "53/53 [==============================] - 70s 1s/step - loss: 62152.5195\n",
      "Epoch 8/50\n",
      "53/53 [==============================] - 70s 1s/step - loss: 51539.7734\n",
      "Epoch 9/50\n",
      "53/53 [==============================] - 70s 1s/step - loss: 51004.2812\n",
      "Epoch 10/50\n",
      "53/53 [==============================] - 70s 1s/step - loss: 48576.7227\n",
      "Epoch 11/50\n",
      "53/53 [==============================] - 70s 1s/step - loss: 51093.6680\n",
      "Epoch 12/50\n",
      "53/53 [==============================] - 70s 1s/step - loss: 41012.2969\n",
      "Epoch 13/50\n",
      "53/53 [==============================] - 70s 1s/step - loss: 42740.3320\n",
      "Epoch 14/50\n",
      "53/53 [==============================] - 70s 1s/step - loss: 41166.5625\n",
      "Epoch 15/50\n",
      "53/53 [==============================] - 70s 1s/step - loss: 37424.7070\n",
      "Epoch 16/50\n",
      "53/53 [==============================] - 70s 1s/step - loss: 43102.6680\n",
      "Epoch 17/50\n",
      "53/53 [==============================] - 70s 1s/step - loss: 42030.5469\n",
      "Epoch 18/50\n",
      "53/53 [==============================] - 70s 1s/step - loss: 33691.4141\n",
      "Epoch 19/50\n",
      "53/53 [==============================] - 70s 1s/step - loss: 31442.5801\n",
      "Epoch 20/50\n",
      "53/53 [==============================] - 70s 1s/step - loss: 34224.6875\n",
      "Epoch 21/50\n",
      "53/53 [==============================] - 70s 1s/step - loss: 33177.3359\n",
      "Epoch 22/50\n",
      "53/53 [==============================] - 70s 1s/step - loss: 27764.0410\n",
      "Epoch 23/50\n",
      "53/53 [==============================] - 70s 1s/step - loss: 28284.9395\n",
      "Epoch 24/50\n",
      "53/53 [==============================] - 70s 1s/step - loss: 25866.0137\n",
      "Epoch 25/50\n",
      "53/53 [==============================] - 70s 1s/step - loss: 24746.2461\n",
      "Epoch 26/50\n",
      "53/53 [==============================] - 70s 1s/step - loss: 32361.4980\n",
      "Epoch 27/50\n",
      "53/53 [==============================] - 70s 1s/step - loss: 24196.6094\n",
      "Epoch 28/50\n",
      "53/53 [==============================] - 70s 1s/step - loss: 25398.6211\n",
      "Epoch 29/50\n",
      "53/53 [==============================] - 70s 1s/step - loss: 24733.2090\n",
      "Epoch 30/50\n",
      "53/53 [==============================] - 70s 1s/step - loss: 28690.7266\n",
      "Epoch 31/50\n",
      "53/53 [==============================] - 69s 1s/step - loss: 123522.6641\n",
      "Epoch 32/50\n",
      "53/53 [==============================] - 69s 1s/step - loss: 69287.5547\n",
      "Epoch 33/50\n",
      "53/53 [==============================] - 69s 1s/step - loss: 56648.4453\n",
      "Epoch 34/50\n",
      "53/53 [==============================] - 70s 1s/step - loss: 49216.7578\n",
      "Epoch 35/50\n",
      "53/53 [==============================] - 70s 1s/step - loss: 46827.2070\n",
      "Epoch 36/50\n",
      "53/53 [==============================] - 69s 1s/step - loss: 42262.9844\n",
      "Epoch 37/50\n",
      "53/53 [==============================] - 70s 1s/step - loss: 35664.6523\n",
      "Epoch 38/50\n",
      "53/53 [==============================] - 69s 1s/step - loss: 36151.1289\n",
      "Epoch 39/50\n",
      "53/53 [==============================] - 70s 1s/step - loss: 32219.6230\n",
      "Epoch 40/50\n",
      "53/53 [==============================] - 69s 1s/step - loss: 32045.3848\n",
      "Epoch 41/50\n",
      "53/53 [==============================] - 70s 1s/step - loss: 30506.5547\n",
      "Epoch 42/50\n",
      "53/53 [==============================] - 70s 1s/step - loss: 28614.6953\n",
      "Epoch 43/50\n",
      "53/53 [==============================] - 70s 1s/step - loss: 27642.6680\n",
      "Epoch 44/50\n",
      "53/53 [==============================] - 69s 1s/step - loss: 26321.4473\n",
      "Epoch 45/50\n",
      "53/53 [==============================] - 70s 1s/step - loss: 24849.4004\n",
      "Epoch 46/50\n",
      "53/53 [==============================] - 70s 1s/step - loss: 27615.8711\n",
      "Epoch 47/50\n",
      "53/53 [==============================] - 70s 1s/step - loss: 24051.5215\n",
      "Epoch 48/50\n",
      "53/53 [==============================] - 70s 1s/step - loss: 20009.0840\n",
      "Epoch 49/50\n",
      "53/53 [==============================] - 70s 1s/step - loss: 19367.7871\n",
      "Epoch 50/50\n",
      "53/53 [==============================] - 69s 1s/step - loss: 18941.0938\n"
     ]
    },
    {
     "data": {
      "text/plain": [
       "<keras.src.callbacks.History at 0x7b82200ad030>"
      ]
     },
     "execution_count": 6,
     "metadata": {},
     "output_type": "execute_result"
    }
   ],
   "source": [
    "pixelcnn.compile(optimizer = tf.keras.optimizers.Adam(learning_rate = 0.001))\n",
    "\n",
    "pixelcnn.fit(new_array, epochs = 50, batch_size = 128,verbose = True)"
   ]
  },
  {
   "cell_type": "markdown",
   "id": "40fa585e-c87d-4f2d-ad70-31c6fab66be1",
   "metadata": {
    "id": "40fa585e-c87d-4f2d-ad70-31c6fab66be1"
   },
   "source": [
    "## Plot generated images\n",
    "\n",
    "- use the generator to make a couple of images\n",
    "- rescales pixels to original range"
   ]
  },
  {
   "cell_type": "code",
   "execution_count": 7,
   "id": "67b11efd-d5fa-4ebf-b03b-94ce46795f2e",
   "metadata": {
    "colab": {
     "base_uri": "https://localhost:8080/",
     "height": 530
    },
    "id": "67b11efd-d5fa-4ebf-b03b-94ce46795f2e",
    "outputId": "a74c757b-75da-400f-a9a9-b080751bab07"
   },
   "outputs": [
    {
     "name": "stdout",
     "output_type": "stream",
     "text": [
      "(2, 80, 80, 4)\n"
     ]
    },
    {
     "data": {
      "image/png": "[encoded data removed]",
      "text/plain": [
       "<Figure size 1200x600 with 8 Axes>"
      ]
     },
     "metadata": {},
     "output_type": "display_data"
    }
   ],
   "source": [
    "#load a model\n",
    "\n",
    "recons_embed = dist.sample(2).numpy()\n",
    "print(recons_embed.shape)\n",
    "\n",
    "from matplotlib import pyplot as plt\n",
    "from scipy import ndimage\n",
    "\n",
    "cmap=\"tab20c\"\n",
    "\n",
    "def new_images(image,channel):\n",
    "    recons = image[:,:,channel] #last number cycles through channels 0-3\n",
    "    recons = (biggest-smallest)*recons/255 + smallest\n",
    "    rot = ndimage.rotate(recons, 0)\n",
    "    rot  = rot[20:60, 20:60]\n",
    "    return rot\n",
    "\n",
    "newimages=[]\n",
    "newimages2=[]\n",
    "for i in range(4):\n",
    "    new1 = new_images(image=recons_embed[0],channel=i)\n",
    "    newimages.append(new1)\n",
    "    new1 = new_images(image=recons_embed[1],channel=i)\n",
    "    newimages2.append(new1)\n",
    "\n",
    "#can insert scaling code here\n",
    "\n",
    "fig, arrax = plt.subplots(2, 4, figsize=(12,6))\n",
    "for i in range(4):\n",
    "    arrax[0,i].imshow(newimages[i],cmap=cmap)\n",
    "    arrax[1,i].imshow(newimages2[i],cmap=cmap)\n",
    "    arrax[0,i].axis(\"off\")\n",
    "    arrax[1,i].axis(\"off\")\n",
    "arrax[0,0].set_title(\"Generated Images (channels 1-4)\")\n",
    "arrax[1,0].set_title(\"Generated Images (channels 1-4)\")\n",
    "\n",
    "plt.show()"
   ]
  },
  {
   "cell_type": "markdown",
   "id": "f2a718f7-d9a1-4df2-bda2-b8c810428f2e",
   "metadata": {
    "id": "f2a718f7-d9a1-4df2-bda2-b8c810428f2e"
   },
   "source": [
    "## Save PixelCNN"
   ]
  },
  {
   "cell_type": "code",
   "execution_count": 8,
   "id": "7b7d6ca5-7484-4f78-a6c0-0f3ebd834859",
   "metadata": {
    "colab": {
     "base_uri": "https://localhost:8080/"
    },
    "id": "7b7d6ca5-7484-4f78-a6c0-0f3ebd834859",
    "outputId": "1d45adfe-d332-47db-c026-c4be4bb42b5e"
   },
   "outputs": [
    {
     "name": "stdout",
     "output_type": "stream",
     "text": [
      "Saved model\n"
     ]
    }
   ],
   "source": [
    "checkpoint = tf.train.Checkpoint(model=pixelcnn)\n",
    "checkpoint.save(file_prefix='6731_April4_50epcs')\n",
    "\n",
    "print(\"Saved model\")"
   ]
  },
  {
   "cell_type": "markdown",
   "id": "96afa96f-6948-4c9a-add7-225ff943c148",
   "metadata": {
    "id": "96afa96f-6948-4c9a-add7-225ff943c148"
   },
   "source": [
    "## Load and restart training on the PixelCNN"
   ]
  },
  {
   "cell_type": "code",
   "execution_count": null,
   "id": "RCKLxqMxoRCX",
   "metadata": {
    "id": "RCKLxqMxoRCX"
   },
   "outputs": [],
   "source": [
    "epcs = 100\n",
    "\n",
    "pixelcnn.compile(optimizer = tf.keras.optimizers.Adam(learning_rate = 0.001))\n",
    "pixelcnn.fit(new_array, epochs = epcs+100, batch_size = 64, verbose = True, initial_epoch = epcs)"
   ]
  }
 ],
 "metadata": {
  "accelerator": "GPU",
  "colab": {
   "gpuType": "T4",
   "provenance": []
  },
  "kernelspec": {
   "display_name": "Python 3 (ipykernel)",
   "language": "python",
   "name": "python3"
  },
  "language_info": {
   "codemirror_mode": {
    "name": "ipython",
    "version": 3
   },
   "file_extension": ".py",
   "mimetype": "text/x-python",
   "name": "python",
   "nbconvert_exporter": "python",
   "pygments_lexer": "ipython3",
   "version": "3.10.13"
  }
 },
 "nbformat": 4,
 "nbformat_minor": 5
}
