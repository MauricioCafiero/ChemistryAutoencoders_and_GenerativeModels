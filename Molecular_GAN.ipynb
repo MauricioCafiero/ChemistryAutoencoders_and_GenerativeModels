{
 "cells": [
  {
   "cell_type": "markdown",
   "id": "37706c9c-1ef4-4051-b17e-e54aa0664180",
   "metadata": {},
   "source": [
    "# Generative Adversarial Network for Molecular Graph images\n",
    "\n",
    "This block\n",
    "\n",
    "- imports all modules/libraries needed\n",
    "- contains a function for a learning rate scheduler (if needed)\n",
    "- reads in SMILES strings and creates a list\n",
    "- featurizes via the SmilesTo Image featurizer from Deepchem (https://github.com/deepchem/deepchem)\n",
    "- Four channel image used for featurization\n",
    "  * Atomic numbers + bonds\n",
    "  * partial charges\n",
    "  * valence\n",
    "  * hybridization"
   ]
  },
  {
   "cell_type": "code",
   "execution_count": 1,
   "id": "979d0bc1-0585-4b38-903d-b64edabe0891",
   "metadata": {},
   "outputs": [
    {
     "name": "stdout",
     "output_type": "stream",
     "text": [
      "WARNING:tensorflow:From C:\\ProgramData\\Anaconda3\\envs\\rdkitenv\\lib\\site-packages\\keras\\src\\losses.py:2976: The name tf.losses.sparse_softmax_cross_entropy is deprecated. Please use tf.compat.v1.losses.sparse_softmax_cross_entropy instead.\n",
      "\n",
      "WARNING:tensorflow:From C:\\ProgramData\\Anaconda3\\envs\\rdkitenv\\lib\\site-packages\\tensorflow\\python\\util\\deprecation.py:588: calling function (from tensorflow.python.eager.polymorphic_function.polymorphic_function) with experimental_relax_shapes is deprecated and will be removed in a future version.\n",
      "Instructions for updating:\n",
      "experimental_relax_shapes is deprecated, use reduce_retracing instead\n"
     ]
    },
    {
     "name": "stderr",
     "output_type": "stream",
     "text": [
      "Skipped loading modules with pytorch-geometric dependency, missing a dependency. No module named 'torch_geometric'\n",
      "Skipped loading modules with pytorch-geometric dependency, missing a dependency. cannot import name 'DMPNN' from 'deepchem.models.torch_models' (C:\\ProgramData\\Anaconda3\\envs\\rdkitenv\\lib\\site-packages\\deepchem\\models\\torch_models\\__init__.py)\n",
      "Skipped loading some Jax models, missing a dependency. No module named 'jax'\n"
     ]
    },
    {
     "name": "stdout",
     "output_type": "stream",
     "text": [
      "Number of features and datapoints:  (6731, 80, 80, 4)\n",
      "featurization done with:  SmilesToImage\n"
     ]
    }
   ],
   "source": [
    "import tensorflow as tf\n",
    "import numpy as np\n",
    "import pandas as pd \n",
    "import deepchem as dc\n",
    "import time\n",
    "from rdkit import Chem\n",
    "from functools import partial\n",
    "import matplotlib.pyplot as plt\n",
    "from rdkit.Chem import AllChem, Draw\n",
    "from sklearn.model_selection import train_test_split\n",
    "\n",
    "def exp_decay(lr0,s):\n",
    "    def exp_decay_fcn(epoch):\n",
    "        return lr0*0.1**(epoch/s)\n",
    "    return exp_decay_fcn\n",
    "\n",
    "#df = pd.read_csv(\"392-azo.csv\")\n",
    "#df = pd.read_csv(\"212-azo.csv\")\n",
    "#df = pd.read_csv(\"604-azo.csv\")\n",
    "#df = pd.read_csv(\"621-azo.csv\")\n",
    "df = pd.read_csv(\"6731-azo.csv\")\n",
    "\n",
    "Xa = [\"\"]*len(df)\n",
    "w = [\"\"]*len(df)\n",
    "i=0\n",
    "for name in df[\"SMILES\"]:\n",
    "    Xa[i]=name\n",
    "    w[i]=1.0\n",
    "    i += 1\n",
    "Xa = list(Xa)\n",
    "w=list(w)\n",
    "\n",
    "#===========================================================================================\n",
    "#featurizer\n",
    "\n",
    "featurizer=dc.feat.SmilesToImage(img_spec=\"engd\")\n",
    "featname=\"SmilesToImage\"\n",
    "\n",
    "f = featurizer.featurize(Xa)\n",
    "print(\"Number of features and datapoints: \",f.shape)\n",
    "\n",
    "#===========================================================================================\n",
    "print(\"featurization done with: \",featname)\n",
    "\n",
    "# set npp for how many points in the dataset, len(df) for whole dataset\n",
    "nnp=len(df)\n",
    "\n",
    "#set y to lambdamax\n",
    "y = df[\"Lmax\"]\n",
    "\n",
    "#set dataset and split\n",
    "\n",
    "dataset = dc.data.NumpyDataset(X=f[:nnp,:,:,:], y=y[:nnp], ids=Xa[:nnp], w=w[:nnp])"
   ]
  },
  {
   "cell_type": "markdown",
   "id": "f0dc88c3-17a9-48af-8032-4b0cf8d34951",
   "metadata": {},
   "source": [
    "## Define the Discriminator and Generator\n",
    "\n",
    "- architecture adapted from https://github.com/davidADSP/Generative_Deep_Learning_2nd_Edition"
   ]
  },
  {
   "cell_type": "code",
   "execution_count": 21,
   "id": "0a3fa376-fceb-4b59-8ef1-0ae20a1718c1",
   "metadata": {},
   "outputs": [
    {
     "name": "stdout",
     "output_type": "stream",
     "text": [
      "Generator and Discriminator built.\n"
     ]
    }
   ],
   "source": [
    "embsize=128\n",
    "dropout_rate = 0.45\n",
    "\n",
    "#=======================================================================================================\n",
    "\n",
    "discriminator_input = tf.keras.layers.Input(shape=[80,80,4])\n",
    "x = tf.keras.layers.Conv2D(filters=64,kernel_size=(4,4), strides=2,padding=\"same\", use_bias = False)(discriminator_input)\n",
    "x = tf.keras.layers.BatchNormalization()(x)\n",
    "x = tf.keras.layers.LeakyReLU(0.2)(x)\n",
    "x = tf.keras.layers.Dropout(dropout_rate)(x)\n",
    "x = tf.keras.layers.Conv2D(filters=128,kernel_size=(4,4), strides=2,padding=\"same\", use_bias = False)(x)\n",
    "x = tf.keras.layers.BatchNormalization(momentum=0.9)(x)\n",
    "x = tf.keras.layers.LeakyReLU(0.2)(x)\n",
    "x = tf.keras.layers.Dropout(dropout_rate)(x)\n",
    "x = tf.keras.layers.Conv2D(filters=256,kernel_size=(4,4), strides=2,padding=\"same\", use_bias = False)(x)\n",
    "x = tf.keras.layers.BatchNormalization(momentum=0.9)(x)\n",
    "x = tf.keras.layers.LeakyReLU(0.2)(x)\n",
    "x = tf.keras.layers.Dropout(dropout_rate)(x)\n",
    "x = tf.keras.layers.Conv2D(filters=512,kernel_size=(4,4), strides=2,padding=\"same\", use_bias = False)(x)\n",
    "x = tf.keras.layers.BatchNormalization(momentum=0.9)(x)\n",
    "x = tf.keras.layers.LeakyReLU(0.2)(x)\n",
    "x = tf.keras.layers.Dropout(dropout_rate)(x)\n",
    "x = tf.keras.layers.Conv2D(filters=1,kernel_size=(5,5), strides=1,padding=\"valid\", use_bias = False,\n",
    "                          activation=\"sigmoid\")(x)\n",
    "discriminator_output = tf.keras.layers.Flatten()(x)\n",
    "\n",
    "discriminator = tf.keras.models.Model(discriminator_input,discriminator_output)\n",
    "#=======================================================================================================\n",
    "\n",
    "generator_input = tf.keras.layers.Input(shape=(embsize,))\n",
    "x = tf.keras.layers.Reshape((1,1,embsize))(generator_input)\n",
    "x = tf.keras.layers.Conv2DTranspose(filters=512,kernel_size=(5,5),strides=1, padding=\"valid\", use_bias = False)(x)\n",
    "x = tf.keras.layers.BatchNormalization(momentum=0.9)(x)\n",
    "x = tf.keras.layers.LeakyReLU(0.2)(x)\n",
    "x = tf.keras.layers.Conv2DTranspose(filters=256,kernel_size=(4,4),strides=2, padding=\"same\", use_bias = False)(x)\n",
    "x = tf.keras.layers.BatchNormalization(momentum=0.9)(x)\n",
    "x = tf.keras.layers.LeakyReLU(0.2)(x)\n",
    "x = tf.keras.layers.Conv2DTranspose(filters=128,kernel_size=(4,4),strides=2, padding=\"same\", use_bias = False)(x)\n",
    "x = tf.keras.layers.BatchNormalization(momentum=0.9)(x)\n",
    "x = tf.keras.layers.LeakyReLU(0.2)(x)\n",
    "x = tf.keras.layers.Conv2DTranspose(filters=64,kernel_size=(4,4),strides=2, padding=\"same\", use_bias = False)(x)\n",
    "x = tf.keras.layers.BatchNormalization(momentum=0.9)(x)\n",
    "x = tf.keras.layers.LeakyReLU(0.2)(x)\n",
    "generator_output = tf.keras.layers.Conv2DTranspose(filters=4,kernel_size=(4,4),strides=2, padding=\"same\", \n",
    "                                                   activation = \"sigmoid\", use_bias = False)(x)  #using activation = \"sigmoid\" here leads to blue backgrounds\n",
    "\n",
    "generator = tf.keras.models.Model(generator_input,generator_output)\n",
    "\n",
    "print(\"Generator and Discriminator built.\")"
   ]
  },
  {
   "cell_type": "markdown",
   "id": "7aae5b43-eed5-4e85-b0c0-c2693688b2c5",
   "metadata": {},
   "source": [
    "## Training for the GAN\n",
    "\n",
    "- training loop adapted from https://github.com/davidADSP/Generative_Deep_Learning_2nd_Edition"
   ]
  },
  {
   "cell_type": "code",
   "execution_count": 22,
   "id": "b4be5e51-b8d8-4d00-bc94-252fbe1b4bcb",
   "metadata": {},
   "outputs": [
    {
     "name": "stdout",
     "output_type": "stream",
     "text": [
      "Epoch 1/2\n",
      "211/211 [==============================] - 106s 483ms/step - d_loss: 1.9860 - g_loss: 0.0859\n",
      "Epoch 2/2\n",
      "211/211 [==============================] - 112s 533ms/step - d_loss: 2.6968 - g_loss: 0.0561\n"
     ]
    },
    {
     "data": {
      "text/plain": [
       "<keras.src.callbacks.History at 0x239087452a0>"
      ]
     },
     "execution_count": 22,
     "metadata": {},
     "output_type": "execute_result"
    }
   ],
   "source": [
    "class GAN(tf.keras.models.Model):\n",
    "    def __init__(self,discriminator,generator,latent_dim):\n",
    "        super(GAN, self).__init__()\n",
    "        self.discriminator = discriminator\n",
    "        self.generator = generator\n",
    "        self.latent_dim = latent_dim\n",
    "\n",
    "    def compile(self, d_optimizer, g_optimizer):\n",
    "        super(GAN,self).compile()\n",
    "        self.loss_fn = tf.keras.losses.BinaryCrossentropy()\n",
    "        self.d_optimizer = d_optimizer\n",
    "        self.g_optimizer = g_optimizer\n",
    "        self.d_loss_metric = tf.keras.metrics.Mean(name=\"d_loss\")\n",
    "        self.g_loss_metric = tf.keras.metrics.Mean(name=\"g_loss\")\n",
    "\n",
    "    @property\n",
    "    def metrics(self):\n",
    "        return [ self.d_loss_metric, self.g_loss_metric]\n",
    "\n",
    "    def train_step(self, real_images):\n",
    "        batch_size = tf.shape(real_images)[0]\n",
    "        random_latent_vectors = tf.random.normal(shape=(batch_size,self.latent_dim))\n",
    "\n",
    "        with tf.GradientTape() as gen_tape, tf.GradientTape() as disc_tape:\n",
    "            generated_images = self.generator(random_latent_vectors, training = True)\n",
    "            real_predictions = self.discriminator(real_images, training = True)\n",
    "            fake_predictions = self.discriminator(generated_images, training = True)\n",
    "\n",
    "            real_labels = tf.ones_like(real_predictions)\n",
    "            real_noisy_labels = real_labels + 0.1*tf.random.uniform(tf.shape(real_predictions))\n",
    "            fake_labels = tf.zeros_like(fake_predictions)\n",
    "            fake_noisy_labels = fake_labels + 0.1*tf.random.uniform(tf.shape(fake_predictions))\n",
    "\n",
    "            d_real_loss = self.loss_fn(real_noisy_labels, real_predictions)\n",
    "            d_fake_loss = self.loss_fn(fake_noisy_labels, fake_predictions)\n",
    "            d_loss = (d_real_loss + d_fake_loss) / 2.0\n",
    "            g_loss = self.loss_fn(real_labels, fake_predictions)\n",
    "\n",
    "        gradients_of_discriminator = disc_tape.gradient(d_loss, self.discriminator.trainable_variables)\n",
    "        gradients_of_generator = gen_tape.gradient(g_loss, self.generator.trainable_variables)\n",
    "\n",
    "        self.d_optimizer.apply_gradients(zip(gradients_of_discriminator, discriminator.trainable_variables))\n",
    "        self.g_optimizer.apply_gradients(zip(gradients_of_generator, generator.trainable_variables))\n",
    "\n",
    "        self.d_loss_metric.update_state(d_loss)\n",
    "        self.g_loss_metric.update_state(g_loss)\n",
    "\n",
    "        return {m.name: m.result() for m in self.metrics}\n",
    "\n",
    "dcgan = GAN(discriminator = discriminator, generator = generator, latent_dim = embsize)\n",
    "\n",
    "dcgan.compile(d_optimizer = tf.keras.optimizers.SGD(learning_rate = 0.0001),\n",
    "             g_optimizer = tf.keras.optimizers.Adam(learning_rate = 0.001, beta_1 = 0.5, beta_2 = 0.999))\n",
    "dcgan.fit(dataset.X, epochs = 2)"
   ]
  },
  {
   "cell_type": "markdown",
   "id": "40fa585e-c87d-4f2d-ad70-31c6fab66be1",
   "metadata": {},
   "source": [
    "## Plot generated images\n",
    "\n",
    "- use the generator to make a couple of images"
   ]
  },
  {
   "cell_type": "code",
   "execution_count": 38,
   "id": "67b11efd-d5fa-4ebf-b03b-94ce46795f2e",
   "metadata": {},
   "outputs": [
    {
     "name": "stdout",
     "output_type": "stream",
     "text": [
      "1/1 [==============================] - 0s 194ms/step\n",
      "(2, 80, 80, 4)\n"
     ]
    },
    {
     "data": {
      "image/png": "[encoded data removed]",
      "text/plain": [
       "<Figure size 1200x600 with 8 Axes>"
      ]
     },
     "metadata": {},
     "output_type": "display_data"
    }
   ],
   "source": [
    "#load a model\n",
    "#decoder = tf.keras.models.load_model(\"6731_30March_test_decoder\")\n",
    "\n",
    "z_gen = np.random.normal(size=(2,embsize))\n",
    "\n",
    "recons_embed = generator.predict(z_gen)\n",
    "print(recons_embed.shape)\n",
    "\n",
    "from matplotlib import pyplot as plt\n",
    "from scipy import ndimage\n",
    "\n",
    "cmap=\"tab20c\"\n",
    "\n",
    "def new_images(image,channel):\n",
    "    recons = image[:,:,channel] #last number cycles through channels 0-3\n",
    "    rot = ndimage.rotate(recons, 0)\n",
    "    rot  = rot[20:60, 20:60]\n",
    "    return rot\n",
    "\n",
    "newimages=[]\n",
    "newimages2=[]\n",
    "for i in range(4):\n",
    "    new1 = new_images(image=recons_embed[0],channel=i)\n",
    "    newimages.append(new1)\n",
    "    new1 = new_images(image=recons_embed[1],channel=i)\n",
    "    newimages2.append(new1)\n",
    "    \n",
    "#can insert scaling code here\n",
    "\n",
    "fig, arrax = plt.subplots(2, 4, figsize=(12,6))\n",
    "for i in range(4):\n",
    "    arrax[0,i].imshow(newimages[i],cmap=cmap)\n",
    "    arrax[1,i].imshow(newimages2[i],cmap=cmap)\n",
    "    arrax[0,i].axis(\"off\")\n",
    "    arrax[1,i].axis(\"off\")\n",
    "arrax[0,0].set_title(\"Generated Images (channels 1-4)\")\n",
    "arrax[1,0].set_title(\"Generated Images (channels 1-4)\")\n",
    "\n",
    "plt.show()"
   ]
  },
  {
   "cell_type": "markdown",
   "id": "f2a718f7-d9a1-4df2-bda2-b8c810428f2e",
   "metadata": {},
   "source": [
    "## Save GAN components"
   ]
  },
  {
   "cell_type": "code",
   "execution_count": 39,
   "id": "7b7d6ca5-7484-4f78-a6c0-0f3ebd834859",
   "metadata": {},
   "outputs": [
    {
     "name": "stdout",
     "output_type": "stream",
     "text": [
      "WARNING:tensorflow:Compiled the loaded model, but the compiled metrics have yet to be built. `model.compile_metrics` will be empty until you train or evaluate the model.\n"
     ]
    },
    {
     "name": "stderr",
     "output_type": "stream",
     "text": [
      "WARNING:tensorflow:Compiled the loaded model, but the compiled metrics have yet to be built. `model.compile_metrics` will be empty until you train or evaluate the model.\n"
     ]
    },
    {
     "name": "stdout",
     "output_type": "stream",
     "text": [
      "INFO:tensorflow:Assets written to: 6731_1April_test_discriminator\\assets\n"
     ]
    },
    {
     "name": "stderr",
     "output_type": "stream",
     "text": [
      "INFO:tensorflow:Assets written to: 6731_1April_test_discriminator\\assets\n"
     ]
    },
    {
     "name": "stdout",
     "output_type": "stream",
     "text": [
      "Discriminator model saved.\n",
      "WARNING:tensorflow:Compiled the loaded model, but the compiled metrics have yet to be built. `model.compile_metrics` will be empty until you train or evaluate the model.\n"
     ]
    },
    {
     "name": "stderr",
     "output_type": "stream",
     "text": [
      "WARNING:tensorflow:Compiled the loaded model, but the compiled metrics have yet to be built. `model.compile_metrics` will be empty until you train or evaluate the model.\n"
     ]
    },
    {
     "name": "stdout",
     "output_type": "stream",
     "text": [
      "INFO:tensorflow:Assets written to: 6731_1April_test_generator\\assets\n"
     ]
    },
    {
     "name": "stderr",
     "output_type": "stream",
     "text": [
      "INFO:tensorflow:Assets written to: 6731_1April_test_generator\\assets\n"
     ]
    },
    {
     "name": "stdout",
     "output_type": "stream",
     "text": [
      "Generator model saved.\n"
     ]
    }
   ],
   "source": [
    "discriminator.save(\"6731_1April_test_discriminator\",save_format=\"tf\")\n",
    "print(\"Discriminator model saved.\")\n",
    "\n",
    "generator.save(\"6731_1April_test_generator\",save_format=\"tf\")\n",
    "print(\"Generator model saved.\")"
   ]
  },
  {
   "cell_type": "markdown",
   "id": "96afa96f-6948-4c9a-add7-225ff943c148",
   "metadata": {},
   "source": [
    "## Load and restart training on the GAN"
   ]
  },
  {
   "cell_type": "code",
   "execution_count": 37,
   "id": "8c5f08b6-39cd-4671-a73f-fb30ac584c73",
   "metadata": {},
   "outputs": [
    {
     "name": "stdout",
     "output_type": "stream",
     "text": [
      "Epoch 51/70\n",
      "211/211 [==============================] - 99s 443ms/step - d_loss: 0.7496 - g_loss: 0.6111\n",
      "Epoch 52/70\n",
      "211/211 [==============================] - 102s 486ms/step - d_loss: 0.7420 - g_loss: 0.6152\n",
      "Epoch 53/70\n",
      "211/211 [==============================] - 105s 497ms/step - d_loss: 0.7731 - g_loss: 0.5896\n",
      "Epoch 54/70\n",
      "211/211 [==============================] - 105s 496ms/step - d_loss: 0.7361 - g_loss: 0.6198\n",
      "Epoch 55/70\n",
      "211/211 [==============================] - 107s 506ms/step - d_loss: 0.7069 - g_loss: 0.6440\n",
      "Epoch 56/70\n",
      "211/211 [==============================] - 110s 523ms/step - d_loss: 0.7528 - g_loss: 0.6073\n",
      "Epoch 57/70\n",
      "211/211 [==============================] - 109s 518ms/step - d_loss: 0.7331 - g_loss: 0.6220\n",
      "Epoch 58/70\n",
      "211/211 [==============================] - 108s 514ms/step - d_loss: 0.7425 - g_loss: 0.6158\n",
      "Epoch 59/70\n",
      "211/211 [==============================] - 109s 518ms/step - d_loss: 0.7489 - g_loss: 0.6038\n",
      "Epoch 60/70\n",
      "211/211 [==============================] - 109s 517ms/step - d_loss: 0.7244 - g_loss: 0.6246\n",
      "Epoch 61/70\n",
      "211/211 [==============================] - 110s 522ms/step - d_loss: 0.7324 - g_loss: 0.6045\n",
      "Epoch 62/70\n",
      "211/211 [==============================] - 112s 529ms/step - d_loss: 0.7451 - g_loss: 0.6080\n",
      "Epoch 63/70\n",
      "211/211 [==============================] - 110s 521ms/step - d_loss: 0.7291 - g_loss: 0.6175\n",
      "Epoch 64/70\n",
      "211/211 [==============================] - 110s 520ms/step - d_loss: 0.7454 - g_loss: 0.6061\n",
      "Epoch 65/70\n",
      "211/211 [==============================] - 114s 538ms/step - d_loss: 0.7429 - g_loss: 0.6080\n",
      "Epoch 66/70\n",
      "211/211 [==============================] - 117s 556ms/step - d_loss: 0.7357 - g_loss: 0.6070\n",
      "Epoch 67/70\n",
      "211/211 [==============================] - 118s 558ms/step - d_loss: 0.7432 - g_loss: 0.6074\n",
      "Epoch 68/70\n",
      "211/211 [==============================] - 114s 542ms/step - d_loss: 0.7394 - g_loss: 0.6152\n",
      "Epoch 69/70\n",
      "211/211 [==============================] - 113s 536ms/step - d_loss: 0.7143 - g_loss: 0.6256\n",
      "Epoch 70/70\n",
      "211/211 [==============================] - 120s 567ms/step - d_loss: 0.7114 - g_loss: 0.6183\n"
     ]
    },
    {
     "data": {
      "text/plain": [
       "<keras.src.callbacks.History at 0x2390e835990>"
      ]
     },
     "execution_count": 37,
     "metadata": {},
     "output_type": "execute_result"
    }
   ],
   "source": [
    "#autoencoder = tf.keras.models.load_model(\"6731_30March_test\")\n",
    "epcs = 50\n",
    "\n",
    "dcgan.compile(d_optimizer = tf.keras.optimizers.SGD(learning_rate = 0.0001),\n",
    "             g_optimizer = tf.keras.optimizers.Adam(learning_rate = 0.001, beta_1 = 0.5, beta_2 = 0.999))\n",
    "\n",
    "dcgan.fit(dataset.X, epochs = epcs+20, initial_epoch = epcs)"
   ]
  },
  {
   "cell_type": "markdown",
   "id": "a5e80d75-0a3a-4ddf-adc3-f8f1e94088c6",
   "metadata": {},
   "source": [
    "## Code for scaling images"
   ]
  },
  {
   "cell_type": "code",
   "execution_count": null,
   "id": "68654c36-66de-49fe-a5dc-b54b51b01c13",
   "metadata": {},
   "outputs": [],
   "source": [
    "#scaling for images\n",
    "biggest, smallest = 0.0, 6000.0\n",
    "tmp=np.empty(2)\n",
    "for i in range(4):\n",
    "    tmp[0] = newimages[i].max()\n",
    "    tmp[1] = oldimages[i].max()\n",
    "    tmps = tmp.max()\n",
    "    if tmps > biggest:\n",
    "        biggest = tmps\n",
    "    tmp[0] = newimages[i].min()\n",
    "    tmp[1] = oldimages[i].min()\n",
    "    tmps = tmp.min()\n",
    "    if tmps < smallest:\n",
    "        smallest = tmps\n",
    "scaled_newimages = ((newimages - smallest) * (1/(biggest-smallest)) * 255).astype('uint8')\n",
    "scaled_oldimages = ((oldimages - smallest) * (1/(biggest-smallest)) * 255).astype('uint8')"
   ]
  }
 ],
 "metadata": {
  "kernelspec": {
   "display_name": "Python 3 (ipykernel)",
   "language": "python",
   "name": "python3"
  },
  "language_info": {
   "codemirror_mode": {
    "name": "ipython",
    "version": 3
   },
   "file_extension": ".py",
   "mimetype": "text/x-python",
   "name": "python",
   "nbconvert_exporter": "python",
   "pygments_lexer": "ipython3",
   "version": "3.10.13"
  }
 },
 "nbformat": 4,
 "nbformat_minor": 5
}
