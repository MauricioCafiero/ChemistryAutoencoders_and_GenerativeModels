{
 "cells": [
  {
   "cell_type": "markdown",
   "id": "37706c9c-1ef4-4051-b17e-e54aa0664180",
   "metadata": {},
   "source": [
    "# Wasserstein GAN with Gradient Penalty for Molecular Graph images\n",
    "\n",
    "This block\n",
    "\n",
    "- imports all modules/libraries needed\n",
    "- contains a function for a learning rate scheduler (if needed)\n",
    "- reads in SMILES strings and creates a list\n",
    "- featurizes via the SmilesTo Image featurizer from Deepchem (https://github.com/deepchem/deepchem)\n",
    "- Four channel image used for featurization\n",
    "  * Atomic numbers + bonds\n",
    "  * partial charges\n",
    "  * valence\n",
    "  * hybridization"
   ]
  },
  {
   "cell_type": "code",
   "execution_count": 1,
   "id": "979d0bc1-0585-4b38-903d-b64edabe0891",
   "metadata": {},
   "outputs": [
    {
     "name": "stdout",
     "output_type": "stream",
     "text": [
      "WARNING:tensorflow:From C:\\ProgramData\\Anaconda3\\envs\\rdkitenv\\lib\\site-packages\\keras\\src\\losses.py:2976: The name tf.losses.sparse_softmax_cross_entropy is deprecated. Please use tf.compat.v1.losses.sparse_softmax_cross_entropy instead.\n",
      "\n",
      "WARNING:tensorflow:From C:\\ProgramData\\Anaconda3\\envs\\rdkitenv\\lib\\site-packages\\tensorflow\\python\\util\\deprecation.py:588: calling function (from tensorflow.python.eager.polymorphic_function.polymorphic_function) with experimental_relax_shapes is deprecated and will be removed in a future version.\n",
      "Instructions for updating:\n",
      "experimental_relax_shapes is deprecated, use reduce_retracing instead\n"
     ]
    },
    {
     "name": "stderr",
     "output_type": "stream",
     "text": [
      "Skipped loading modules with pytorch-geometric dependency, missing a dependency. No module named 'torch_geometric'\n",
      "Skipped loading modules with pytorch-geometric dependency, missing a dependency. cannot import name 'DMPNN' from 'deepchem.models.torch_models' (C:\\ProgramData\\Anaconda3\\envs\\rdkitenv\\lib\\site-packages\\deepchem\\models\\torch_models\\__init__.py)\n",
      "Skipped loading some Jax models, missing a dependency. No module named 'jax'\n"
     ]
    },
    {
     "name": "stdout",
     "output_type": "stream",
     "text": [
      "Number of features and datapoints:  (6731, 80, 80, 4)\n",
      "featurization done with:  SmilesToImage\n"
     ]
    }
   ],
   "source": [
    "import tensorflow as tf\n",
    "import numpy as np\n",
    "import pandas as pd \n",
    "import deepchem as dc\n",
    "import time\n",
    "from rdkit import Chem\n",
    "from functools import partial\n",
    "import matplotlib.pyplot as plt\n",
    "from rdkit.Chem import AllChem, Draw\n",
    "from sklearn.model_selection import train_test_split\n",
    "\n",
    "def exp_decay(lr0,s):\n",
    "    def exp_decay_fcn(epoch):\n",
    "        return lr0*0.1**(epoch/s)\n",
    "    return exp_decay_fcn\n",
    "\n",
    "#df = pd.read_csv(\"392-azo.csv\")\n",
    "#df = pd.read_csv(\"212-azo.csv\")\n",
    "#df = pd.read_csv(\"604-azo.csv\")\n",
    "#df = pd.read_csv(\"621-azo.csv\")\n",
    "df = pd.read_csv(\"6731-azo.csv\")\n",
    "\n",
    "Xa = [\"\"]*len(df)\n",
    "w = [\"\"]*len(df)\n",
    "i=0\n",
    "for name in df[\"SMILES\"]:\n",
    "    Xa[i]=name\n",
    "    w[i]=1.0\n",
    "    i += 1\n",
    "Xa = list(Xa)\n",
    "w=list(w)\n",
    "\n",
    "#===========================================================================================\n",
    "#featurizer\n",
    "\n",
    "featurizer=dc.feat.SmilesToImage(img_spec=\"engd\")\n",
    "featname=\"SmilesToImage\"\n",
    "\n",
    "f = featurizer.featurize(Xa)\n",
    "print(\"Number of features and datapoints: \",f.shape)\n",
    "\n",
    "#===========================================================================================\n",
    "print(\"featurization done with: \",featname)\n",
    "\n",
    "# set npp for how many points in the dataset, len(df) for whole dataset\n",
    "nnp=len(df)\n",
    "\n",
    "#set y to lambdamax\n",
    "y = df[\"Lmax\"]\n",
    "\n",
    "#set dataset and split\n",
    "\n",
    "dataset = dc.data.NumpyDataset(X=f[:nnp,:,:,:], y=y[:nnp], ids=Xa[:nnp], w=w[:nnp])"
   ]
  },
  {
   "cell_type": "markdown",
   "id": "f0dc88c3-17a9-48af-8032-4b0cf8d34951",
   "metadata": {},
   "source": [
    "## Define the Critic and Generator\n",
    "\n",
    "- architecture adapted from https://github.com/davidADSP/Generative_Deep_Learning_2nd_Edition"
   ]
  },
  {
   "cell_type": "code",
   "execution_count": 11,
   "id": "0a3fa376-fceb-4b59-8ef1-0ae20a1718c1",
   "metadata": {},
   "outputs": [
    {
     "name": "stdout",
     "output_type": "stream",
     "text": [
      "Critic and Generator built.\n"
     ]
    }
   ],
   "source": [
    "embsize=128\n",
    "dropout_rate = 0.3\n",
    "\n",
    "#=======================================================================================================\n",
    "\n",
    "critic_input = tf.keras.layers.Input(shape=[80,80,4])\n",
    "x = tf.keras.layers.Conv2D(filters=64,kernel_size=(4,4), strides=2,padding=\"same\")(critic_input)\n",
    "x = tf.keras.layers.LeakyReLU(0.2)(x)\n",
    "x = tf.keras.layers.Dropout(dropout_rate)(x)\n",
    "x = tf.keras.layers.Conv2D(filters=128,kernel_size=(4,4), strides=2,padding=\"same\")(x)\n",
    "x = tf.keras.layers.LeakyReLU(0.2)(x)\n",
    "x = tf.keras.layers.Dropout(dropout_rate)(x)\n",
    "x = tf.keras.layers.Conv2D(filters=256,kernel_size=(4,4), strides=2,padding=\"same\")(x)\n",
    "x = tf.keras.layers.LeakyReLU(0.2)(x)\n",
    "x = tf.keras.layers.Dropout(dropout_rate)(x)\n",
    "x = tf.keras.layers.Conv2D(filters=512,kernel_size=(4,4), strides=2,padding=\"same\")(x)\n",
    "x = tf.keras.layers.LeakyReLU(0.2)(x)\n",
    "x = tf.keras.layers.Dropout(dropout_rate)(x)\n",
    "x = tf.keras.layers.Conv2D(filters=1,kernel_size=(5,5), strides=1,padding=\"valid\")(x)\n",
    "critic_output = tf.keras.layers.Flatten()(x)\n",
    "\n",
    "critic = tf.keras.models.Model(critic_input,critic_output)\n",
    "#=======================================================================================================\n",
    "\n",
    "generator_input = tf.keras.layers.Input(shape=(embsize,))\n",
    "x = tf.keras.layers.Reshape((1,1,embsize))(generator_input)\n",
    "x = tf.keras.layers.Conv2DTranspose(filters=512,kernel_size=(5,5),strides=1, padding=\"valid\", use_bias = False)(x)\n",
    "x = tf.keras.layers.BatchNormalization(momentum=0.9)(x)\n",
    "x = tf.keras.layers.LeakyReLU(0.2)(x)\n",
    "x = tf.keras.layers.Conv2DTranspose(filters=256,kernel_size=(4,4),strides=2, padding=\"same\", use_bias = False)(x)\n",
    "x = tf.keras.layers.BatchNormalization(momentum=0.9)(x)\n",
    "x = tf.keras.layers.LeakyReLU(0.2)(x)\n",
    "x = tf.keras.layers.Conv2DTranspose(filters=128,kernel_size=(4,4),strides=2, padding=\"same\", use_bias = False)(x)\n",
    "x = tf.keras.layers.BatchNormalization(momentum=0.9)(x)\n",
    "x = tf.keras.layers.LeakyReLU(0.2)(x)\n",
    "x = tf.keras.layers.Conv2DTranspose(filters=64,kernel_size=(4,4),strides=2, padding=\"same\", use_bias = False)(x)\n",
    "x = tf.keras.layers.BatchNormalization(momentum=0.9)(x)\n",
    "x = tf.keras.layers.LeakyReLU(0.2)(x)\n",
    "generator_output = tf.keras.layers.Conv2DTranspose(filters=4,kernel_size=(4,4),strides=2, padding=\"same\", \n",
    "                                                   activation = \"sigmoid\")(x)  #using activation = \"sigmoid\" here leads to blue backgrounds\n",
    "\n",
    "generator = tf.keras.models.Model(generator_input,generator_output)\n",
    "\n",
    "print(\"Critic and Generator built.\")"
   ]
  },
  {
   "cell_type": "markdown",
   "id": "7aae5b43-eed5-4e85-b0c0-c2693688b2c5",
   "metadata": {},
   "source": [
    "## Training loop for the Wasserstein GAN with Gradient Penalty\n",
    "\n",
    "- Training loop adapted from https://github.com/davidADSP/Generative_Deep_Learning_2nd_Edition"
   ]
  },
  {
   "cell_type": "code",
   "execution_count": 12,
   "id": "b4be5e51-b8d8-4d00-bc94-252fbe1b4bcb",
   "metadata": {},
   "outputs": [
    {
     "name": "stdout",
     "output_type": "stream",
     "text": [
      "Wasserstein GAN with Gradient Penalty built.\n"
     ]
    }
   ],
   "source": [
    "class WGANGP(tf.keras.models.Model):\n",
    "    def __init__(self,critic,generator,latent_dim,critic_steps, gp_weight):\n",
    "        super(WGANGP, self).__init__()\n",
    "        self.critic = critic\n",
    "        self.generator = generator\n",
    "        self.latent_dim = latent_dim\n",
    "        self.critic_steps = critic_steps\n",
    "        self.gp_weight = gp_weight\n",
    "\n",
    "    def compile(self, c_optimizer, g_optimizer):\n",
    "        super(WGANGP,self).compile()\n",
    "        self.c_optimizer = c_optimizer\n",
    "        self.g_optimizer = g_optimizer\n",
    "        self.c_wass_loss_metric = tf.keras.metrics.Mean(name=\"c_wass_loss\")\n",
    "        self.c_gp_metric = tf.keras.metrics.Mean(name=\"c_gp\")\n",
    "        self.c_loss_metric = tf.keras.metrics.Mean(name=\"c_loss\")\n",
    "        self.g_loss_metric = tf.keras.metrics.Mean(name=\"g_loss\")\n",
    "\n",
    "    @property\n",
    "    def metrics(self):\n",
    "        return [ self.c_loss_metric, self.c_wass_loss_metric,\n",
    "                self.c_gp_metric, self.g_loss_metric]\n",
    "\n",
    "    def gradient_penalty(self,batch_size, real_images, fake_images):\n",
    "        alpha = tf.random.normal([batch_size,1,1,1],0.0, 1.0)\n",
    "        diff = fake_images - real_images\n",
    "        interpolated = real_images + alpha * diff\n",
    "\n",
    "        with tf.GradientTape() as gp_tape:\n",
    "            gp_tape.watch(interpolated)\n",
    "            pred = self.critic(interpolated, training = True)\n",
    "\n",
    "        grads = gp_tape.gradient(pred, [interpolated])[0]\n",
    "        norm = tf.sqrt(tf.reduce_sum(tf.square(grads), axis = [1,2,3]))\n",
    "        gp = tf.reduce_mean((norm - 1.0) ** 2)\n",
    "        return gp\n",
    "    \n",
    "    def train_step(self, real_images):\n",
    "        batch_size = tf.shape(real_images)[0]\n",
    "\n",
    "        for i in range(self.critic_steps):\n",
    "            random_latent_vectors = tf.random.normal(shape=(batch_size,self.latent_dim))\n",
    "\n",
    "            with tf.GradientTape() as tape:\n",
    "                generated_images = self.generator(random_latent_vectors, training = True)\n",
    "                real_predictions = self.critic(real_images, training = True)\n",
    "                fake_predictions = self.critic(generated_images, training = True)\n",
    "\n",
    "                c_wass_loss = tf.reduce_mean(fake_predictions) - tf.reduce_mean(real_predictions)\n",
    "                c_gp = self.gradient_penalty(batch_size, real_images, generated_images)\n",
    "                c_loss = c_wass_loss + c_gp * self.gp_weight\n",
    "\n",
    "            c_gradient = tape.gradient(c_loss, self.critic.trainable_variables)\n",
    "            self.c_optimizer.apply_gradients(zip(c_gradient,self.critic.trainable_variables))\n",
    "\n",
    "        random_latent_vectors = tf.random.normal(shape=(batch_size,self.latent_dim))\n",
    "\n",
    "        with tf.GradientTape() as tape:\n",
    "            generated_images = self.generator(random_latent_vectors, training = True)\n",
    "            fake_predictions = self.critic(generated_images, training = True)\n",
    "            g_loss = -tf.reduce_mean(fake_predictions)\n",
    "            \n",
    "        gen_gradient = tape.gradient(g_loss, self.generator.trainable_variables)\n",
    "        self.g_optimizer.apply_gradients(zip(gen_gradient, self.generator.trainable_variables))\n",
    "\n",
    "        self.c_loss_metric.update_state(c_loss)\n",
    "        self.g_loss_metric.update_state(g_loss)\n",
    "        self.c_wass_loss_metric.update_state(c_wass_loss)\n",
    "        self.c_gp_metric.update_state(c_gp)\n",
    "\n",
    "        return {m.name: m.result() for m in self.metrics}\n",
    "\n",
    "wgangp = WGANGP(critic = critic, generator = generator, latent_dim = embsize,\n",
    "               critic_steps = 3, gp_weight = 10.0)\n",
    "\n",
    "print(\"Wasserstein GAN with Gradient Penalty built.\")"
   ]
  },
  {
   "cell_type": "markdown",
   "id": "0caf3e80-5186-4be3-b1be-b8cc4f80e35a",
   "metadata": {},
   "source": [
    "## Train the WGAN-GP"
   ]
  },
  {
   "cell_type": "code",
   "execution_count": 13,
   "id": "853a3ba0-895f-4768-81e9-a5c8d1ba3205",
   "metadata": {},
   "outputs": [
    {
     "name": "stdout",
     "output_type": "stream",
     "text": [
      "Epoch 1/25\n",
      "106/106 [==============================] - 419s 4s/step - c_loss: -230.1199 - c_wass_loss: -397.1971 - c_gp: 16.7077 - g_loss: 389.5749\n",
      "Epoch 2/25\n",
      "106/106 [==============================] - 424s 4s/step - c_loss: -127.3054 - c_wass_loss: -208.7862 - c_gp: 8.1481 - g_loss: 169.1725\n",
      "Epoch 3/25\n",
      "106/106 [==============================] - 427s 4s/step - c_loss: -85.9189 - c_wass_loss: -133.7031 - c_gp: 4.7784 - g_loss: 76.1599\n",
      "Epoch 4/25\n",
      "106/106 [==============================] - 437s 4s/step - c_loss: -76.1074 - c_wass_loss: -116.5217 - c_gp: 4.0414 - g_loss: 46.4453\n",
      "Epoch 5/25\n",
      "106/106 [==============================] - 441s 4s/step - c_loss: -72.9403 - c_wass_loss: -110.9859 - c_gp: 3.8046 - g_loss: 40.9871\n",
      "Epoch 6/25\n",
      "106/106 [==============================] - 428s 4s/step - c_loss: -70.5768 - c_wass_loss: -107.9426 - c_gp: 3.7366 - g_loss: 35.9796\n",
      "Epoch 7/25\n",
      "106/106 [==============================] - 432s 4s/step - c_loss: -67.4326 - c_wass_loss: -102.7342 - c_gp: 3.5302 - g_loss: 28.7310\n",
      "Epoch 8/25\n",
      "106/106 [==============================] - 444s 4s/step - c_loss: -64.5504 - c_wass_loss: -96.9790 - c_gp: 3.2429 - g_loss: 20.4331\n",
      "Epoch 9/25\n",
      "106/106 [==============================] - 420s 4s/step - c_loss: -62.9584 - c_wass_loss: -94.6631 - c_gp: 3.1705 - g_loss: 12.5472\n",
      "Epoch 10/25\n",
      "106/106 [==============================] - 443s 4s/step - c_loss: -62.6521 - c_wass_loss: -94.4170 - c_gp: 3.1765 - g_loss: 8.3590\n",
      "Epoch 11/25\n",
      "106/106 [==============================] - 431s 4s/step - c_loss: -61.1886 - c_wass_loss: -92.2937 - c_gp: 3.1105 - g_loss: 6.2411\n",
      "Epoch 12/25\n",
      "106/106 [==============================] - 428s 4s/step - c_loss: -61.0801 - c_wass_loss: -91.9814 - c_gp: 3.0901 - g_loss: 5.6828\n",
      "Epoch 13/25\n",
      "106/106 [==============================] - 422s 4s/step - c_loss: -62.1667 - c_wass_loss: -92.1680 - c_gp: 3.0001 - g_loss: 15.6257\n",
      "Epoch 14/25\n",
      "106/106 [==============================] - 390s 4s/step - c_loss: -61.3867 - c_wass_loss: -91.3928 - c_gp: 3.0006 - g_loss: 25.7771\n",
      "Epoch 15/25\n",
      "106/106 [==============================] - 399s 4s/step - c_loss: -60.4505 - c_wass_loss: -90.8106 - c_gp: 3.0360 - g_loss: 31.6030\n",
      "Epoch 16/25\n",
      "106/106 [==============================] - 431s 4s/step - c_loss: -60.9143 - c_wass_loss: -91.2298 - c_gp: 3.0316 - g_loss: 46.7269\n",
      "Epoch 17/25\n",
      "106/106 [==============================] - 405s 4s/step - c_loss: -59.8127 - c_wass_loss: -90.1796 - c_gp: 3.0367 - g_loss: 47.7389\n",
      "Epoch 18/25\n",
      "106/106 [==============================] - 401s 4s/step - c_loss: -58.7839 - c_wass_loss: -88.0198 - c_gp: 2.9236 - g_loss: 55.7682\n",
      "Epoch 19/25\n",
      "106/106 [==============================] - 404s 4s/step - c_loss: -58.4129 - c_wass_loss: -87.4568 - c_gp: 2.9044 - g_loss: 64.8428\n",
      "Epoch 20/25\n",
      "106/106 [==============================] - 416s 4s/step - c_loss: -59.8958 - c_wass_loss: -88.6367 - c_gp: 2.8741 - g_loss: 66.1153\n",
      "Epoch 21/25\n",
      "106/106 [==============================] - 417s 4s/step - c_loss: -58.3240 - c_wass_loss: -87.4971 - c_gp: 2.9173 - g_loss: 56.5318\n",
      "Epoch 22/25\n",
      "106/106 [==============================] - 408s 4s/step - c_loss: -58.0008 - c_wass_loss: -86.7388 - c_gp: 2.8738 - g_loss: 69.7691\n",
      "Epoch 23/25\n",
      "106/106 [==============================] - 392s 4s/step - c_loss: -57.4517 - c_wass_loss: -85.3517 - c_gp: 2.7900 - g_loss: 84.5995\n",
      "Epoch 24/25\n",
      "106/106 [==============================] - 424s 4s/step - c_loss: -57.5825 - c_wass_loss: -85.5343 - c_gp: 2.7952 - g_loss: 86.9431\n",
      "Epoch 25/25\n",
      "106/106 [==============================] - 578s 5s/step - c_loss: -58.6257 - c_wass_loss: -86.3704 - c_gp: 2.7745 - g_loss: 119.5053\n"
     ]
    },
    {
     "data": {
      "text/plain": [
       "<keras.src.callbacks.History at 0x1dd771a8be0>"
      ]
     },
     "execution_count": 13,
     "metadata": {},
     "output_type": "execute_result"
    }
   ],
   "source": [
    "wgangp.compile(c_optimizer = tf.keras.optimizers.Adam(learning_rate = 0.0001, beta_1 = 0.5, beta_2 = 0.999),\n",
    "               g_optimizer = tf.keras.optimizers.Adam(learning_rate = 0.0001, beta_1 = 0.5, beta_2 = 0.999))\n",
    "\n",
    "wgangp.fit(dataset.X, epochs = 25, batch_size = 64)"
   ]
  },
  {
   "cell_type": "markdown",
   "id": "40fa585e-c87d-4f2d-ad70-31c6fab66be1",
   "metadata": {},
   "source": [
    "## Plot generated images\n",
    "\n",
    "- use the generator to make a couple of images"
   ]
  },
  {
   "cell_type": "code",
   "execution_count": 18,
   "id": "67b11efd-d5fa-4ebf-b03b-94ce46795f2e",
   "metadata": {},
   "outputs": [
    {
     "name": "stdout",
     "output_type": "stream",
     "text": [
      "1/1 [==============================] - 0s 59ms/step\n",
      "(2, 80, 80, 4)\n"
     ]
    },
    {
     "data": {
      "image/png": "[encoded data removed]",
      "text/plain": [
       "<Figure size 1200x600 with 8 Axes>"
      ]
     },
     "metadata": {},
     "output_type": "display_data"
    }
   ],
   "source": [
    "#load a model\n",
    "#decoder = tf.keras.models.load_model(\"6731_1April_test_Wassgenerator\")\n",
    "\n",
    "z_gen = np.random.normal(size=(2,embsize))\n",
    "\n",
    "recons_embed = generator.predict(z_gen)\n",
    "print(recons_embed.shape)\n",
    "\n",
    "from matplotlib import pyplot as plt\n",
    "from scipy import ndimage\n",
    "\n",
    "cmap=\"tab20c\"\n",
    "\n",
    "def new_images(image,channel):\n",
    "    recons = image[:,:,channel] #last number cycles through channels 0-3\n",
    "    rot = ndimage.rotate(recons, 0)\n",
    "    rot  = rot[20:60, 20:60]\n",
    "    return rot\n",
    "\n",
    "newimages=[]\n",
    "newimages2=[]\n",
    "for i in range(4):\n",
    "    new1 = new_images(image=recons_embed[0],channel=i)\n",
    "    newimages.append(new1)\n",
    "    new1 = new_images(image=recons_embed[1],channel=i)\n",
    "    newimages2.append(new1)\n",
    "    \n",
    "#can insert scaling code here\n",
    "\n",
    "fig, arrax = plt.subplots(2, 4, figsize=(12,6))\n",
    "for i in range(4):\n",
    "    arrax[0,i].imshow(newimages[i],cmap=cmap)\n",
    "    arrax[1,i].imshow(newimages2[i],cmap=cmap)\n",
    "    arrax[0,i].axis(\"off\")\n",
    "    arrax[1,i].axis(\"off\")\n",
    "arrax[0,0].set_title(\"Generated Images (channels 1-4)\")\n",
    "arrax[1,0].set_title(\"Generated Images (channels 1-4)\")\n",
    "\n",
    "plt.show()"
   ]
  },
  {
   "cell_type": "markdown",
   "id": "f2a718f7-d9a1-4df2-bda2-b8c810428f2e",
   "metadata": {},
   "source": [
    "## Save WGAN-GP components"
   ]
  },
  {
   "cell_type": "code",
   "execution_count": 15,
   "id": "7b7d6ca5-7484-4f78-a6c0-0f3ebd834859",
   "metadata": {},
   "outputs": [
    {
     "name": "stdout",
     "output_type": "stream",
     "text": [
      "WARNING:tensorflow:Compiled the loaded model, but the compiled metrics have yet to be built. `model.compile_metrics` will be empty until you train or evaluate the model.\n"
     ]
    },
    {
     "name": "stderr",
     "output_type": "stream",
     "text": [
      "WARNING:tensorflow:Compiled the loaded model, but the compiled metrics have yet to be built. `model.compile_metrics` will be empty until you train or evaluate the model.\n"
     ]
    },
    {
     "name": "stdout",
     "output_type": "stream",
     "text": [
      "INFO:tensorflow:Assets written to: 6731_1April_test_critic\\assets\n"
     ]
    },
    {
     "name": "stderr",
     "output_type": "stream",
     "text": [
      "INFO:tensorflow:Assets written to: 6731_1April_test_critic\\assets\n"
     ]
    },
    {
     "name": "stdout",
     "output_type": "stream",
     "text": [
      "Critic model saved.\n",
      "WARNING:tensorflow:Compiled the loaded model, but the compiled metrics have yet to be built. `model.compile_metrics` will be empty until you train or evaluate the model.\n"
     ]
    },
    {
     "name": "stderr",
     "output_type": "stream",
     "text": [
      "WARNING:tensorflow:Compiled the loaded model, but the compiled metrics have yet to be built. `model.compile_metrics` will be empty until you train or evaluate the model.\n"
     ]
    },
    {
     "name": "stdout",
     "output_type": "stream",
     "text": [
      "INFO:tensorflow:Assets written to: 6731_1April_test_Wassgenerator\\assets\n"
     ]
    },
    {
     "name": "stderr",
     "output_type": "stream",
     "text": [
      "INFO:tensorflow:Assets written to: 6731_1April_test_Wassgenerator\\assets\n"
     ]
    },
    {
     "name": "stdout",
     "output_type": "stream",
     "text": [
      "Generator model saved.\n"
     ]
    }
   ],
   "source": [
    "critic.save(\"6731_1April_test_critic\",save_format=\"tf\")\n",
    "print(\"Critic model saved.\")\n",
    "\n",
    "generator.save(\"6731_1April_test_Wassgenerator\",save_format=\"tf\")\n",
    "print(\"Generator model saved.\")"
   ]
  },
  {
   "cell_type": "markdown",
   "id": "96afa96f-6948-4c9a-add7-225ff943c148",
   "metadata": {},
   "source": [
    "## Load and restart training on the Wasserstein GAN with Gradient Penalty"
   ]
  },
  {
   "cell_type": "code",
   "execution_count": 9,
   "id": "8c5f08b6-39cd-4671-a73f-fb30ac584c73",
   "metadata": {},
   "outputs": [
    {
     "name": "stdout",
     "output_type": "stream",
     "text": [
      "Epoch 31/40\n",
      "106/106 [==============================] - 448s 4s/step - c_loss: -54.6430 - c_wass_loss: -82.1224 - c_gp: 2.7479 - g_loss: 74.4574\n",
      "Epoch 32/40\n",
      "106/106 [==============================] - 460s 4s/step - c_loss: -53.7754 - c_wass_loss: -80.4547 - c_gp: 2.6679 - g_loss: 80.4183\n",
      "Epoch 33/40\n",
      "106/106 [==============================] - 444s 4s/step - c_loss: -55.4084 - c_wass_loss: -81.7291 - c_gp: 2.6321 - g_loss: 93.0261\n",
      "Epoch 34/40\n",
      "106/106 [==============================] - 448s 4s/step - c_loss: -54.9578 - c_wass_loss: -81.5332 - c_gp: 2.6575 - g_loss: 102.9184\n",
      "Epoch 35/40\n",
      "106/106 [==============================] - 456s 4s/step - c_loss: -55.8520 - c_wass_loss: -82.4011 - c_gp: 2.6549 - g_loss: 126.5514\n",
      "Epoch 36/40\n",
      "106/106 [==============================] - 444s 4s/step - c_loss: -54.2432 - c_wass_loss: -80.5514 - c_gp: 2.6308 - g_loss: 155.4334\n",
      "Epoch 37/40\n",
      "106/106 [==============================] - 444s 4s/step - c_loss: -53.6977 - c_wass_loss: -79.0904 - c_gp: 2.5393 - g_loss: 183.7347\n",
      "Epoch 38/40\n",
      "106/106 [==============================] - 446s 4s/step - c_loss: -53.7825 - c_wass_loss: -79.3818 - c_gp: 2.5599 - g_loss: 189.3720\n",
      "Epoch 39/40\n",
      "106/106 [==============================] - 456s 4s/step - c_loss: -54.3345 - c_wass_loss: -80.6996 - c_gp: 2.6365 - g_loss: 243.0146\n",
      "Epoch 40/40\n",
      "106/106 [==============================] - 455s 4s/step - c_loss: -52.8787 - c_wass_loss: -78.2355 - c_gp: 2.5357 - g_loss: 242.6320\n"
     ]
    },
    {
     "data": {
      "text/plain": [
       "<keras.src.callbacks.History at 0x1dd752cea70>"
      ]
     },
     "execution_count": 9,
     "metadata": {},
     "output_type": "execute_result"
    }
   ],
   "source": [
    "#critic = tf.keras.models.load_model(\"6731_1April_test_critic\")\n",
    "#generator = tf.keras.models.load_model(\"6731_1April_test_Wassgenerator\")\n",
    "epcs = 30\n",
    "\n",
    "wgangp.compile(c_optimizer = tf.keras.optimizers.Adam(learning_rate = 0.0001, beta_1 = 0.5, beta_2 = 0.999),\n",
    "               g_optimizer = tf.keras.optimizers.Adam(learning_rate = 0.0001, beta_1 = 0.5, beta_2 = 0.999))\n",
    "\n",
    "wgangp.fit(dataset.X, epochs = epcs+10, batch_size = 64, initial_epoch = epcs)"
   ]
  },
  {
   "cell_type": "markdown",
   "id": "a5e80d75-0a3a-4ddf-adc3-f8f1e94088c6",
   "metadata": {},
   "source": [
    "## Code for scaling images"
   ]
  },
  {
   "cell_type": "code",
   "execution_count": null,
   "id": "68654c36-66de-49fe-a5dc-b54b51b01c13",
   "metadata": {},
   "outputs": [],
   "source": [
    "#scaling for images\n",
    "biggest, smallest = 0.0, 6000.0\n",
    "tmp=np.empty(2)\n",
    "for i in range(4):\n",
    "    tmp[0] = newimages[i].max()\n",
    "    tmp[1] = oldimages[i].max()\n",
    "    tmps = tmp.max()\n",
    "    if tmps > biggest:\n",
    "        biggest = tmps\n",
    "    tmp[0] = newimages[i].min()\n",
    "    tmp[1] = oldimages[i].min()\n",
    "    tmps = tmp.min()\n",
    "    if tmps < smallest:\n",
    "        smallest = tmps\n",
    "scaled_newimages = ((newimages - smallest) * (1/(biggest-smallest)) * 255).astype('uint8')\n",
    "scaled_oldimages = ((oldimages - smallest) * (1/(biggest-smallest)) * 255).astype('uint8')"
   ]
  }
 ],
 "metadata": {
  "kernelspec": {
   "display_name": "Python 3 (ipykernel)",
   "language": "python",
   "name": "python3"
  },
  "language_info": {
   "codemirror_mode": {
    "name": "ipython",
    "version": 3
   },
   "file_extension": ".py",
   "mimetype": "text/x-python",
   "name": "python",
   "nbconvert_exporter": "python",
   "pygments_lexer": "ipython3",
   "version": "3.10.13"
  }
 },
 "nbformat": 4,
 "nbformat_minor": 5
}
